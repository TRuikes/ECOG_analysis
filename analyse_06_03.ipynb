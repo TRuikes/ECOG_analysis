{
 "cells": [
  {
   "cell_type": "code",
   "id": "initial_id",
   "metadata": {
    "collapsed": true,
    "ExecuteTime": {
     "end_time": "2025-03-07T09:45:14.459163Z",
     "start_time": "2025-03-07T09:45:13.167218Z"
    }
   },
   "source": [
    "import json\n",
    "import pandas as pd\n",
    "from pathlib import Path\n",
    "import allego_file_reader as afr\n",
    "import utils\n",
    "import numpy as np\n",
    "from project_colors import ProjectColors\n",
    "from scipy.signal import butter, iirnotch, filtfilt, lfilter, sosfiltfilt\n",
    "from data_handling import check_recording_datadir, load_recording_overview, read_data_files, detect_stim_onsets\n",
    "from anlayse_20_01 import get_recording_data\n",
    "\n",
    "data_dir = Path(r\"E:\\250306_PEV\\recordings\")\n",
    "figure_savedir = Path(r\"E:\\250306_PEV\\figures\")\n",
    "\n",
    "# Make sure reocrding data is organised ok for analyses\n",
    "check_recording_datadir(data_dir)\n",
    "ro = load_recording_overview(data_dir)\n",
    "\n",
    "print(f'Detected recordings:')\n",
    "for i, r in ro.iterrows():\n",
    "    print(f'\\t{i}')"
   ],
   "outputs": [
    {
     "name": "stdout",
     "output_type": "stream",
     "text": [
      "Data files ok!\n",
      "Detected recordings:\n",
      "\trec_1_wl_allseqs\n",
      "\trec_2_PA_dc55bd50ll90\n",
      "\trec_3_PA_dc55bd50ll90\n",
      "\trec_4_PA_dc70bd50ll90_focus2turns\n",
      "\trec_5_PA_BC20BD50LL90DC80\n",
      "\trec_6_ol_3V100ms\n",
      "\trec_7_ol_3V100MS\n",
      "\trec_8_ol_powerseq\n",
      "\trec_9_PA\n"
     ]
    }
   ],
   "execution_count": 1
  },
  {
   "metadata": {},
   "cell_type": "code",
   "outputs": [],
   "execution_count": null,
   "source": [
    "# Create a bandpass filter\n",
    "sos = butter(10, (10, 300), btype='bandpass', analog=False, fs=3000,\n",
    "             output='sos')"
   ],
   "id": "7ac49200225286b5"
  },
  {
   "metadata": {},
   "cell_type": "markdown",
   "source": "### Recording 1: white light sequences",
   "id": "4dd6b83392ec4aab"
  },
  {
   "metadata": {
    "ExecuteTime": {
     "end_time": "2025-03-07T09:45:19.384096Z",
     "start_time": "2025-03-07T09:45:19.180771Z"
    }
   },
   "cell_type": "code",
   "source": [
    "signals, time_samples, channel_df = read_data_files(data_dir, 'rec_1_wl_allseqs')\n",
    "din_1, din_2, _, _ = detect_stim_onsets(signals, time_samples, channel_df)\n"
   ],
   "id": "c9a6702f875bf88d",
   "outputs": [],
   "execution_count": 2
  },
  {
   "metadata": {
    "ExecuteTime": {
     "end_time": "2025-03-07T09:45:32.504906Z",
     "start_time": "2025-03-07T09:45:32.496651Z"
    }
   },
   "cell_type": "code",
   "source": "din_2",
   "id": "f33d86a6ef0facb2",
   "outputs": [
    {
     "data": {
      "text/plain": [
       "             onset         offset    duration\n",
       "0      5248.333333    5258.333333   10.000000\n",
       "1      5268.333333    5278.666667   10.333333\n",
       "2      5288.666667    5298.666667   10.000000\n",
       "3      5308.666667    5318.666667   10.000000\n",
       "4      5328.666667    5338.666667   10.000000\n",
       "..             ...            ...         ...\n",
       "806  588453.666667  588554.000000  100.333333\n",
       "807  589456.000000  589556.333333  100.333333\n",
       "808  590458.666667  590559.000000  100.333333\n",
       "809  591461.000000  591561.333333  100.333333\n",
       "810  592463.666667  592564.000000  100.333333\n",
       "\n",
       "[811 rows x 3 columns]"
      ],
      "text/html": [
       "<div>\n",
       "<style scoped>\n",
       "    .dataframe tbody tr th:only-of-type {\n",
       "        vertical-align: middle;\n",
       "    }\n",
       "\n",
       "    .dataframe tbody tr th {\n",
       "        vertical-align: top;\n",
       "    }\n",
       "\n",
       "    .dataframe thead th {\n",
       "        text-align: right;\n",
       "    }\n",
       "</style>\n",
       "<table border=\"1\" class=\"dataframe\">\n",
       "  <thead>\n",
       "    <tr style=\"text-align: right;\">\n",
       "      <th></th>\n",
       "      <th>onset</th>\n",
       "      <th>offset</th>\n",
       "      <th>duration</th>\n",
       "    </tr>\n",
       "  </thead>\n",
       "  <tbody>\n",
       "    <tr>\n",
       "      <th>0</th>\n",
       "      <td>5248.333333</td>\n",
       "      <td>5258.333333</td>\n",
       "      <td>10.000000</td>\n",
       "    </tr>\n",
       "    <tr>\n",
       "      <th>1</th>\n",
       "      <td>5268.333333</td>\n",
       "      <td>5278.666667</td>\n",
       "      <td>10.333333</td>\n",
       "    </tr>\n",
       "    <tr>\n",
       "      <th>2</th>\n",
       "      <td>5288.666667</td>\n",
       "      <td>5298.666667</td>\n",
       "      <td>10.000000</td>\n",
       "    </tr>\n",
       "    <tr>\n",
       "      <th>3</th>\n",
       "      <td>5308.666667</td>\n",
       "      <td>5318.666667</td>\n",
       "      <td>10.000000</td>\n",
       "    </tr>\n",
       "    <tr>\n",
       "      <th>4</th>\n",
       "      <td>5328.666667</td>\n",
       "      <td>5338.666667</td>\n",
       "      <td>10.000000</td>\n",
       "    </tr>\n",
       "    <tr>\n",
       "      <th>...</th>\n",
       "      <td>...</td>\n",
       "      <td>...</td>\n",
       "      <td>...</td>\n",
       "    </tr>\n",
       "    <tr>\n",
       "      <th>806</th>\n",
       "      <td>588453.666667</td>\n",
       "      <td>588554.000000</td>\n",
       "      <td>100.333333</td>\n",
       "    </tr>\n",
       "    <tr>\n",
       "      <th>807</th>\n",
       "      <td>589456.000000</td>\n",
       "      <td>589556.333333</td>\n",
       "      <td>100.333333</td>\n",
       "    </tr>\n",
       "    <tr>\n",
       "      <th>808</th>\n",
       "      <td>590458.666667</td>\n",
       "      <td>590559.000000</td>\n",
       "      <td>100.333333</td>\n",
       "    </tr>\n",
       "    <tr>\n",
       "      <th>809</th>\n",
       "      <td>591461.000000</td>\n",
       "      <td>591561.333333</td>\n",
       "      <td>100.333333</td>\n",
       "    </tr>\n",
       "    <tr>\n",
       "      <th>810</th>\n",
       "      <td>592463.666667</td>\n",
       "      <td>592564.000000</td>\n",
       "      <td>100.333333</td>\n",
       "    </tr>\n",
       "  </tbody>\n",
       "</table>\n",
       "<p>811 rows × 3 columns</p>\n",
       "</div>"
      ]
     },
     "execution_count": 4,
     "metadata": {},
     "output_type": "execute_result"
    }
   ],
   "execution_count": 4
  }
 ],
 "metadata": {
  "kernelspec": {
   "display_name": "Python 3",
   "language": "python",
   "name": "python3"
  },
  "language_info": {
   "codemirror_mode": {
    "name": "ipython",
    "version": 2
   },
   "file_extension": ".py",
   "mimetype": "text/x-python",
   "name": "python",
   "nbconvert_exporter": "python",
   "pygments_lexer": "ipython2",
   "version": "2.7.6"
  }
 },
 "nbformat": 4,
 "nbformat_minor": 5
}
